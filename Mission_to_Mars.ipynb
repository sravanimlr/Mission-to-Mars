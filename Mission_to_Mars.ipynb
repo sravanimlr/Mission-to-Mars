{
 "cells": [
  {
   "cell_type": "code",
   "execution_count": 1,
   "metadata": {},
   "outputs": [],
   "source": [
    "# Import Splinter and BeautifulSoup\n",
    "from splinter import Browser\n",
    "from bs4 import BeautifulSoup"
   ]
  },
  {
   "cell_type": "code",
   "execution_count": 2,
   "metadata": {},
   "outputs": [],
   "source": [
    "# Set the executable path and initialize the chrome browser in splinter\n",
    "executable_path = {'executable_path': 'chromedriver'}\n",
    "browser = Browser('chrome', **executable_path)\n"
   ]
  },
  {
   "cell_type": "code",
   "execution_count": 3,
   "metadata": {},
   "outputs": [
    {
     "data": {
      "text/plain": [
       "True"
      ]
     },
     "execution_count": 3,
     "metadata": {},
     "output_type": "execute_result"
    }
   ],
   "source": [
    "# Visit the mars nasa news site\n",
    "url = 'https://mars.nasa.gov/news/'\n",
    "browser.visit(url)\n",
    "# Optional delay for loading the page\n",
    "browser.is_element_present_by_css(\"ul.item_list li.slide\", wait_time=1)"
   ]
  },
  {
   "cell_type": "code",
   "execution_count": 4,
   "metadata": {},
   "outputs": [],
   "source": [
    "html = browser.html\n",
    "news_soup = BeautifulSoup(html, 'html.parser')\n",
    "slide_elem = news_soup.select_one('ul.item_list li.slide')"
   ]
  },
  {
   "cell_type": "code",
   "execution_count": 5,
   "metadata": {},
   "outputs": [
    {
     "data": {
      "text/plain": [
       "<div class=\"content_title\"><a href=\"/news/8657/nasas-perseverance-rover-mission-getting-in-shape-for-launch/\" target=\"_self\">NASA's Perseverance Rover Mission Getting in Shape for Launch</a></div>"
      ]
     },
     "execution_count": 5,
     "metadata": {},
     "output_type": "execute_result"
    }
   ],
   "source": [
    "slide_elem.find(\"div\", class_='content_title')"
   ]
  },
  {
   "cell_type": "code",
   "execution_count": 6,
   "metadata": {},
   "outputs": [],
   "source": [
    "# Use the parent element to find the first `a` tag and save it as `news_title`\n",
    "news_title = slide_elem.find(\"div\", class_='content_title').get_text()"
   ]
  },
  {
   "cell_type": "code",
   "execution_count": 7,
   "metadata": {},
   "outputs": [
    {
     "data": {
      "text/plain": [
       "'Stacking spacecraft components on top of each other is one of the final assembly steps before a mission launches to the Red Planet. '"
      ]
     },
     "execution_count": 7,
     "metadata": {},
     "output_type": "execute_result"
    }
   ],
   "source": [
    "# Use the parent element to find the paragraph text\n",
    "news_p = slide_elem.find('div', class_=\"article_teaser_body\").get_text()\n",
    "news_p"
   ]
  },
  {
   "cell_type": "code",
   "execution_count": 8,
   "metadata": {},
   "outputs": [],
   "source": [
    "# Visit URL\n",
    "url = 'https://www.jpl.nasa.gov/spaceimages/?search=&category=Mars'\n",
    "browser.visit(url)"
   ]
  },
  {
   "cell_type": "code",
   "execution_count": 9,
   "metadata": {},
   "outputs": [],
   "source": [
    "# Find and click the full image button\n",
    "full_image_elem = browser.find_by_id('full_image')\n",
    "full_image_elem.click()"
   ]
  },
  {
   "cell_type": "code",
   "execution_count": 10,
   "metadata": {},
   "outputs": [
    {
     "name": "stderr",
     "output_type": "stream",
     "text": [
      "C:\\Users\\Ramana\\anaconda3\\envs\\PythonData\\lib\\site-packages\\splinter\\driver\\webdriver\\__init__.py:528: FutureWarning: browser.find_link_by_partial_text is deprecated. Use browser.links.find_by_partial_text instead.\n",
      "  FutureWarning,\n"
     ]
    }
   ],
   "source": [
    "# Find the more info button and click that\n",
    "browser.is_element_present_by_text('more info', wait_time=1)\n",
    "more_info_elem = browser.find_link_by_partial_text('more info')\n",
    "more_info_elem.click()"
   ]
  },
  {
   "cell_type": "code",
   "execution_count": 11,
   "metadata": {},
   "outputs": [],
   "source": [
    "# Parse the resulting html with soup\n",
    "html = browser.html\n",
    "img_soup = BeautifulSoup(html, 'html.parser')"
   ]
  },
  {
   "cell_type": "code",
   "execution_count": 12,
   "metadata": {},
   "outputs": [
    {
     "data": {
      "text/plain": [
       "'/spaceimages/images/largesize/PIA12831_hires.jpg'"
      ]
     },
     "execution_count": 12,
     "metadata": {},
     "output_type": "execute_result"
    }
   ],
   "source": [
    "# Find the relative image url\n",
    "img_url_rel = img_soup.select_one('figure.lede a img').get(\"src\")\n",
    "img_url_rel"
   ]
  },
  {
   "cell_type": "code",
   "execution_count": 13,
   "metadata": {},
   "outputs": [
    {
     "data": {
      "text/plain": [
       "'https://www.jpl.nasa.gov/spaceimages/images/largesize/PIA12831_hires.jpg'"
      ]
     },
     "execution_count": 13,
     "metadata": {},
     "output_type": "execute_result"
    }
   ],
   "source": [
    "# Use the base URL to create an absolute URL\n",
    "img_url = f'https://www.jpl.nasa.gov{img_url_rel}'\n",
    "img_url"
   ]
  },
  {
   "cell_type": "code",
   "execution_count": 14,
   "metadata": {},
   "outputs": [
    {
     "name": "stdout",
     "output_type": "stream",
     "text": [
      "https://astrogeology.usgs.gov\n"
     ]
    }
   ],
   "source": [
    "#Hemisphere 1 \n",
    "#visit the URL\n",
    "url_hemi_one = 'https://astrogeology.usgs.gov/search/map/Mars/Viking/cerberus_enhanced'\n",
    "browser.visit(url_hemi_one)\n",
    "\n",
    "full_image_hemi_one = browser.find_by_text('Sample')\n",
    "full_image_hemi_one.click()\n",
    "\n",
    "\n",
    "html = browser.html\n",
    "img_hemi_one = BeautifulSoup(html, 'html.parser')\n",
    "\n",
    "try:\n",
    "    #find the relative image URL\n",
    "    img_url_rel_hemi_one = img_soup.select_one('body.overflowingVertical img').get(\"src\")\n",
    "        \n",
    "except AttributeError:\n",
    "    img_url_rel_hemi_one = \"\"\n",
    "        \n",
    "img_url_hemi_one = f'https://astrogeology.usgs.gov{img_url_rel_hemi_one}'\n",
    "print(img_url_hemi_one)"
   ]
  },
  {
   "cell_type": "code",
   "execution_count": 20,
   "metadata": {},
   "outputs": [
    {
     "data": {
      "text/plain": [
       "<title>Cerberus Hemisphere Enhanced | USGS Astrogeology Science Center</title>"
      ]
     },
     "execution_count": 20,
     "metadata": {},
     "output_type": "execute_result"
    }
   ],
   "source": [
    "#Hemishphere 1 title\n",
    "hemi_one_title_url = 'https://astrogeology.usgs.gov/search/map/Mars/Viking/cerberus_enhanced'\n",
    "browser.visit(hemi_one_title_url)\n",
    "html = browser.html\n",
    "title_soup = BeautifulSoup(html, 'html.parser')\n",
    "hemi_title_one = title_soup.select_one('title')\n",
    "hemi_title_one"
   ]
  },
  {
   "cell_type": "code",
   "execution_count": 21,
   "metadata": {},
   "outputs": [
    {
     "name": "stdout",
     "output_type": "stream",
     "text": [
      "https://astrogeology.usgs.gov\n"
     ]
    }
   ],
   "source": [
    "#Hemisphere 2\n",
    "#visit the URLS\n",
    "url_hemi_two = 'https://astrogeology.usgs.gov/search/map/Mars/Viking/schiaparelli_enhanced'\n",
    "browser.visit(url_hemi_two)\n",
    "\n",
    "full_image_hemi_two = browser.find_by_text('Sample')\n",
    "full_image_hemi_two.click()\n",
    "\n",
    "html = browser.html\n",
    "img_hemi_two = BeautifulSoup(html, 'html.parser')\n",
    "\n",
    "try:\n",
    "    #find relative image URL\n",
    "    img_url_rel_hemi_two = img_soup.select_one('body.overflowingVertical img').get(\"src\")\n",
    "\n",
    "except AttributeError:\n",
    "    img_url_rel_hemi_two = \"\"\n",
    "\n",
    "img_url_hemi_two = f'https://astrogeology.usgs.gov{img_url_rel_hemi_two}'\n",
    "print(img_url_hemi_two)"
   ]
  },
  {
   "cell_type": "code",
   "execution_count": 23,
   "metadata": {},
   "outputs": [
    {
     "data": {
      "text/plain": [
       "<title>Schiaparelli Hemisphere Enhanced | USGS Astrogeology Science Center</title>"
      ]
     },
     "execution_count": 23,
     "metadata": {},
     "output_type": "execute_result"
    }
   ],
   "source": [
    "#Hemishphere 2 title\n",
    "hemi_two_title_url = 'https://astrogeology.usgs.gov/search/map/Mars/Viking/schiaparelli_enhanced'\n",
    "browser.visit(hemi_two_title_url)\n",
    "html = browser.html\n",
    "title_soup = BeautifulSoup(html, 'html.parser')\n",
    "hemi_title_two = title_soup.select_one('title')\n",
    "hemi_title_two"
   ]
  },
  {
   "cell_type": "code",
   "execution_count": 24,
   "metadata": {},
   "outputs": [
    {
     "name": "stdout",
     "output_type": "stream",
     "text": [
      "https://astrogeology.usgs.gov\n"
     ]
    }
   ],
   "source": [
    "#Hemisphere 3\n",
    "#visit the URLS\n",
    "url_hemi_three = 'https://astrogeology.usgs.gov/search/map/Mars/Viking/syrtis_major_enhanced'\n",
    "browser.visit(url_hemi_three)\n",
    "\n",
    "full_image_hemi_three = browser.find_by_text('Sample')\n",
    "full_image_hemi_three.click()\n",
    "\n",
    "html = browser.html\n",
    "img_hemi_three = BeautifulSoup(html, 'html.parser')\n",
    "\n",
    "try:\n",
    "    #find relative image URL\n",
    "    img_url_rel_hemi_three = img_soup.select_one('body.overflowingVertical img').get(\"src\")\n",
    "\n",
    "except AttributeError:\n",
    "    img_url_rel_hemi_three = \"\"\n",
    "\n",
    "img_url_hemi_three = f'https://astrogeology.usgs.gov{img_url_rel_hemi_three}'\n",
    "print(img_url_hemi_three)"
   ]
  },
  {
   "cell_type": "code",
   "execution_count": 25,
   "metadata": {},
   "outputs": [
    {
     "data": {
      "text/plain": [
       "<title>Syrtis Major Hemisphere Enhanced | USGS Astrogeology Science Center</title>"
      ]
     },
     "execution_count": 25,
     "metadata": {},
     "output_type": "execute_result"
    }
   ],
   "source": [
    "#Hemishphere 3 title\n",
    "hemi_three_title_url = 'https://astrogeology.usgs.gov/search/map/Mars/Viking/syrtis_major_enhanced'\n",
    "browser.visit(hemi_three_title_url)\n",
    "html = browser.html\n",
    "title_soup = BeautifulSoup(html, 'html.parser')\n",
    "hemi_title_three = title_soup.select_one('title')\n",
    "hemi_title_three"
   ]
  },
  {
   "cell_type": "code",
   "execution_count": 26,
   "metadata": {},
   "outputs": [
    {
     "name": "stdout",
     "output_type": "stream",
     "text": [
      "https://astrogeology.usgs.gov\n"
     ]
    }
   ],
   "source": [
    "#Hemisphere 4\n",
    "#visit the URLS\n",
    "url_hemi_four = 'https://astrogeology.usgs.gov/search/map/Mars/Viking/valles_marineris_enhanced'\n",
    "browser.visit(url_hemi_four)\n",
    "\n",
    "full_image_hemi_four = browser.find_by_text('Sample')\n",
    "full_image_hemi_four.click()\n",
    "\n",
    "html = browser.html\n",
    "img_hemi_four = BeautifulSoup(html, 'html.parser')\n",
    "\n",
    "try:\n",
    "    #find relative image URL\n",
    "    img_url_rel_hemi_four = img_soup.select_one('body.overflowingVertical img').get(\"src\")\n",
    "\n",
    "except AttributeError:\n",
    "    img_url_rel_hemi_four = \"\"\n",
    "\n",
    "img_url_hemi_four = f'https://astrogeology.usgs.gov{img_url_rel_hemi_four}'\n",
    "print(img_url_hemi_four)"
   ]
  },
  {
   "cell_type": "code",
   "execution_count": 27,
   "metadata": {},
   "outputs": [
    {
     "data": {
      "text/plain": [
       "<title>Valles Marineris Hemisphere Enhanced | USGS Astrogeology Science Center</title>"
      ]
     },
     "execution_count": 27,
     "metadata": {},
     "output_type": "execute_result"
    }
   ],
   "source": [
    "#Hemishphere 4 title\n",
    "hemi_four_title_url = 'https://astrogeology.usgs.gov/search/map/Mars/Viking/valles_marineris_enhanced'\n",
    "browser.visit(hemi_four_title_url)\n",
    "html = browser.html\n",
    "title_soup = BeautifulSoup(html, 'html.parser')\n",
    "hemi_title_four = title_soup.select_one('title')\n",
    "hemi_title_four"
   ]
  },
  {
   "cell_type": "code",
   "execution_count": null,
   "metadata": {},
   "outputs": [],
   "source": [
    "import pandas as pd"
   ]
  },
  {
   "cell_type": "code",
   "execution_count": null,
   "metadata": {},
   "outputs": [],
   "source": [
    "df = pd.read_html('http://space-facts.com/mars/')[0]\n",
    "df.columns=['description', 'value']\n",
    "df.set_index('description', inplace=True)\n",
    "df"
   ]
  },
  {
   "cell_type": "code",
   "execution_count": null,
   "metadata": {},
   "outputs": [],
   "source": [
    "df.to_html()"
   ]
  },
  {
   "cell_type": "code",
   "execution_count": null,
   "metadata": {},
   "outputs": [],
   "source": [
    "browser.quit()"
   ]
  },
  {
   "cell_type": "code",
   "execution_count": null,
   "metadata": {},
   "outputs": [],
   "source": []
  },
  {
   "cell_type": "code",
   "execution_count": null,
   "metadata": {},
   "outputs": [],
   "source": []
  },
  {
   "cell_type": "code",
   "execution_count": null,
   "metadata": {},
   "outputs": [],
   "source": []
  }
 ],
 "metadata": {
  "kernelspec": {
   "display_name": "PythonData",
   "language": "python",
   "name": "pythondata"
  },
  "language_info": {
   "codemirror_mode": {
    "name": "ipython",
    "version": 3
   },
   "file_extension": ".py",
   "mimetype": "text/x-python",
   "name": "python",
   "nbconvert_exporter": "python",
   "pygments_lexer": "ipython3",
   "version": "3.7.7"
  }
 },
 "nbformat": 4,
 "nbformat_minor": 4
}
